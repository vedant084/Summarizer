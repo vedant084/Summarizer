{
  "nbformat": 4,
  "nbformat_minor": 0,
  "metadata": {
    "colab": {
      "provenance": []
    },
    "kernelspec": {
      "name": "python3",
      "display_name": "Python 3"
    },
    "language_info": {
      "name": "python"
    }
  },
  "cells": [
    {
      "cell_type": "code",
      "execution_count": null,
      "metadata": {
        "id": "RSH4pal7VAlR"
      },
      "outputs": [],
      "source": [
        "from datasets import load_dataset\n",
        "dataset = load_dataset(\"cnn_dailymail\", \"3.0.0\")\n"
      ]
    },
    {
      "cell_type": "code",
      "source": [
        "import re\n",
        "import torch\n",
        "from transformers import AutoTokenizer\n"
      ],
      "metadata": {
        "id": "bAM6_AqoVFfJ"
      },
      "execution_count": null,
      "outputs": []
    },
    {
      "cell_type": "code",
      "source": [],
      "metadata": {
        "id": "GTt5f_pOWo0N"
      },
      "execution_count": null,
      "outputs": []
    },
    {
      "cell_type": "code",
      "source": [
        "def clean_text(text):\n",
        "    \"\"\"Cleans the text by removing unnecessary characters and formatting issues.\"\"\"\n",
        "    if not isinstance(text, str) or text.strip() == \"\":  # Remove empty or corrupted data\n",
        "        return \"\"\n",
        "\n",
        "    text = text.lower()  # Lowercasing\n",
        "    text = re.sub(r\"[^a-zA-Z0-9.,!?'\\\"\\s]\", \"\", text)  # Remove non-ASCII characters\n",
        "    text = re.sub(r\"\\s+\", \" \", text).strip()  # Remove extra whitespaces\n",
        "\n",
        "    return text"
      ],
      "metadata": {
        "id": "ewWsQ_LWWIMf"
      },
      "execution_count": null,
      "outputs": []
    },
    {
      "cell_type": "code",
      "source": [
        "tokenizer = AutoTokenizer.from_pretrained(\"t5-small\")\n",
        "\n",
        "def preprocess_data(examples):\n",
        "    \"\"\"Cleans and tokenizes the input and target text, then converts to PyTorch tensors.\"\"\"\n",
        "\n",
        "    # Clean the text before tokenization\n",
        "    cleaned_articles = [clean_text(article) for article in examples[\"article\"]]\n",
        "    cleaned_summaries = [clean_text(summary) for summary in examples[\"highlights\"]]\n",
        "\n",
        "    # Tokenizing articles\n",
        "    inputs = tokenizer(\n",
        "        cleaned_articles, max_length=512, truncation=True, padding=\"max_length\"\n",
        "    )\n",
        "\n",
        "    # Tokenizing summaries\n",
        "    labels = tokenizer(\n",
        "        cleaned_summaries, max_length=128, truncation=True, padding=\"max_length\"\n",
        "    )\n",
        "\n",
        "    return {\n",
        "        \"input_ids\": torch.tensor(inputs[\"input_ids\"], dtype=torch.long),\n",
        "        \"attention_mask\": torch.tensor(inputs[\"attention_mask\"], dtype=torch.long),\n",
        "        \"labels\": torch.tensor(labels[\"input_ids\"], dtype=torch.long),\n",
        "    }\n"
      ],
      "metadata": {
        "id": "aXnmgdouWjot"
      },
      "execution_count": null,
      "outputs": []
    },
    {
      "cell_type": "code",
      "source": [
        "tokenized_dataset = dataset.map(preprocess_data, batched=True)\n"
      ],
      "metadata": {
        "id": "cuDoafzMWrQZ"
      },
      "execution_count": null,
      "outputs": []
    },
    {
      "cell_type": "code",
      "source": [
        "from torch.utils.data import DataLoader\n",
        "\n",
        "def collate_fn(batch):\n",
        "    \"\"\"Collates batch and ensures all data is converted to tensors before stacking.\"\"\"\n",
        "\n",
        "    # Convert lists to tensors directly within the collate function\n",
        "    input_ids = torch.tensor([item[\"input_ids\"] for item in batch], dtype=torch.long)\n",
        "    attention_mask = torch.tensor([item[\"attention_mask\"] for item in batch], dtype=torch.long)\n",
        "    labels = torch.tensor([item[\"labels\"] for item in batch], dtype=torch.long)\n",
        "\n",
        "    return {\n",
        "        \"input_ids\": input_ids,\n",
        "        \"attention_mask\": attention_mask,\n",
        "        \"labels\": labels\n",
        "    }\n",
        "\n",
        "# DataLoader with the collate function\n",
        "train_dataloader = DataLoader(tokenized_dataset[\"train\"], batch_size=8, shuffle=True, collate_fn=collate_fn)\n",
        "val_dataloader = DataLoader(tokenized_dataset[\"validation\"], batch_size=4, collate_fn=collate_fn)\n"
      ],
      "metadata": {
        "id": "wplZQpwwWzWs"
      },
      "execution_count": null,
      "outputs": []
    },
    {
      "cell_type": "code",
      "source": [
        "for batch in train_dataloader:\n",
        "    print(\"Batch structure:\", batch)\n",
        "    break\n"
      ],
      "metadata": {
        "id": "tomFfHhlfkH9"
      },
      "execution_count": null,
      "outputs": []
    },
    {
      "cell_type": "markdown",
      "source": [
        "Encoder Decoder\n"
      ],
      "metadata": {
        "id": "hUkYrIOjksuz"
      }
    },
    {
      "cell_type": "code",
      "source": [
        "import torch.nn as nn\n",
        "\n",
        "class Encoder(nn.Module):\n",
        "    def __init__(self, vocab_size, embedding_dim, hidden_dim, n_layers, bidirectional=True, dropout=0.5):\n",
        "        super(Encoder, self).__init__()\n",
        "        self.embedding = nn.Embedding(vocab_size, embedding_dim)\n",
        "        self.lstm = nn.LSTM(\n",
        "            embedding_dim, hidden_dim, n_layers,\n",
        "            bidirectional=bidirectional, batch_first=True, dropout=dropout\n",
        "        )\n",
        "        self.dropout = nn.Dropout(dropout)\n",
        "\n",
        "    def forward(self, src):\n",
        "        embedded = self.dropout(self.embedding(src))\n",
        "        outputs, (hidden, cell) = self.lstm(embedded)\n",
        "        return outputs, hidden, cell  # Encoder outputs, hidden state, and cell state\n"
      ],
      "metadata": {
        "id": "_8VE4zK2kvCE"
      },
      "execution_count": null,
      "outputs": []
    },
    {
      "cell_type": "code",
      "source": [
        "class Attention(nn.Module):\n",
        "    def __init__(self, hidden_dim):\n",
        "        super(Attention, self).__init__()\n",
        "        self.attn = nn.Linear(hidden_dim * 2 + hidden_dim, hidden_dim)\n",
        "        self.v = nn.Linear(hidden_dim, 1, bias=False)\n",
        "\n",
        "    def forward(self, hidden, encoder_outputs):\n",
        "        # hidden: Decoder's previous hidden state\n",
        "        # encoder_outputs: All hidden states from the encoder\n",
        "        src_len = encoder_outputs.shape[1]\n",
        "        hidden = hidden.unsqueeze(1).repeat(1, src_len, 1)  # Align dimensions\n",
        "        energy = torch.tanh(self.attn(torch.cat((hidden, encoder_outputs), dim=2)))\n",
        "        attention = torch.softmax(self.v(energy).squeeze(2), dim=1)  # Softmax over source length\n",
        "        return attention"
      ],
      "metadata": {
        "id": "3kQCOCaSk3lk"
      },
      "execution_count": null,
      "outputs": []
    },
    {
      "cell_type": "code",
      "source": [
        "class Decoder(nn.Module):\n",
        "    def __init__(self, vocab_size, embedding_dim, hidden_dim, output_dim, n_layers, dropout=0.5):\n",
        "        super(Decoder, self).__init__()\n",
        "        self.embedding = nn.Embedding(vocab_size, embedding_dim)\n",
        "        self.lstm = nn.LSTM(\n",
        "            embedding_dim + hidden_dim * 2, hidden_dim,\n",
        "            n_layers, batch_first=True, dropout=dropout\n",
        "        )\n",
        "        self.fc_out = nn.Linear(hidden_dim * 2 + hidden_dim + embedding_dim, output_dim)\n",
        "        self.dropout = nn.Dropout(dropout)\n",
        "        self.attention = Attention(hidden_dim)\n",
        "\n",
        "    def forward(self, input, hidden, cell, encoder_outputs):\n",
        "        input = input.unsqueeze(1)  # Add time dimension\n",
        "        embedded = self.dropout(self.embedding(input))\n",
        "\n",
        "        attn_weights = self.attention(hidden[-1], encoder_outputs)\n",
        "        attn_applied = torch.bmm(attn_weights.unsqueeze(1), encoder_outputs).squeeze(1)\n",
        "\n",
        "        rnn_input = torch.cat((embedded, attn_applied.unsqueeze(1)), dim=2)\n",
        "        outputs, (hidden, cell) = self.lstm(rnn_input, (hidden, cell))\n",
        "\n",
        "        prediction = self.fc_out(torch.cat((outputs.squeeze(1), attn_applied, embedded.squeeze(1)), dim=1))\n",
        "        return prediction, hidden, cell, attn_weights"
      ],
      "metadata": {
        "id": "IgWWa_BOk4Jj"
      },
      "execution_count": null,
      "outputs": []
    },
    {
      "cell_type": "code",
      "source": [
        "class Decoder(nn.Module):\n",
        "    def __init__(self, vocab_size, embedding_dim, hidden_dim, output_dim, n_layers, dropout=0.5):\n",
        "        super(Decoder, self).__init__()\n",
        "        self.embedding = nn.Embedding(vocab_size, embedding_dim)\n",
        "        self.lstm = nn.LSTM(\n",
        "            embedding_dim + hidden_dim * 2, hidden_dim,\n",
        "            n_layers, batch_first=True, dropout=dropout\n",
        "        )\n",
        "        self.fc_out = nn.Linear(hidden_dim * 2 + hidden_dim + embedding_dim, output_dim)\n",
        "        self.dropout = nn.Dropout(dropout)\n",
        "        self.attention = Attention(hidden_dim)\n",
        "\n",
        "    def forward(self, input, hidden, cell, encoder_outputs):\n",
        "        input = input.unsqueeze(1)  # Add time dimension\n",
        "        embedded = self.dropout(self.embedding(input))\n",
        "\n",
        "        attn_weights = self.attention(hidden[-1], encoder_outputs)\n",
        "        attn_applied = torch.bmm(attn_weights.unsqueeze(1), encoder_outputs).squeeze(1)\n",
        "\n",
        "        rnn_input = torch.cat((embedded, attn_applied.unsqueeze(1)), dim=2)\n",
        "        outputs, (hidden, cell) = self.lstm(rnn_input, (hidden, cell))\n",
        "\n",
        "        prediction = self.fc_out(torch.cat((outputs.squeeze(1), attn_applied, embedded.squeeze(1)), dim=1))\n",
        "        return prediction, hidden, cell, attn_weights"
      ],
      "metadata": {
        "id": "VHtLn0nik866"
      },
      "execution_count": null,
      "outputs": []
    },
    {
      "cell_type": "code",
      "execution_count": null,
      "metadata": {
        "id": "00IxgXUGWQDk"
      },
      "outputs": [],
      "source": [
        "import random\n",
        "\n",
        "# Define hyperparameters\n",
        "input_dim = len(tokenizer.get_vocab())  # Adjust based on your tokenizer\n",
        "output_dim = len(tokenizer.get_vocab())  # Same as input_dim for Seq2Seq tasks\n",
        "emb_dim = 256\n",
        "enc_hid_dim = 512\n",
        "dec_hid_dim = 512\n",
        "dropout = 0.5\n",
        "device = torch.device('cpu')\n",
        "\n",
        "# Define optimizer, loss function, etc.\n",
        "encoder = Encoder(input_dim, emb_dim, enc_hid_dim, dec_hid_dim, dropout)\n",
        "decoder = Decoder(\n",
        "    vocab_size = input_dim,\n",
        "    embedding_dim=emb_dim,\n",
        "    hidden_dim=dec_hid_dim,\n",
        "    output_dim=output_dim,\n",
        "    n_layers=2,\n",
        ")\n",
        "\n",
        "# Instantiate Seq2Seq model\n",
        "seq2seq = Seq2Seq(encoder, decoder, device)\n",
        "\n",
        "num_epochs = 100\n",
        "pad_idx = tokenizer.pad_token_id\n",
        "criterion = nn.CrossEntropyLoss(ignore_index=pad_idx)\n",
        "optimizer = torch.optim.Adam(seq2seq.parameters())\n",
        "\n",
        "# Training loop\n",
        "for epoch in range(num_epochs):\n",
        "    seq2seq.train()  # Set model to training mode\n",
        "    epoch_loss = 0\n",
        "\n",
        "    for batch in train_dataloader:\n",
        "        # Move tensors to the appropriate device\n",
        "        input_ids = batch[\"input_ids\"].to(device)\n",
        "        attention_mask = batch[\"attention_mask\"].to(device)\n",
        "        labels = batch[\"labels\"].to(device)\n",
        "\n",
        "        optimizer.zero_grad()  # Zero gradients\n",
        "\n",
        "        # Forward pass\n",
        "        outputs = seq2seq(input_ids, labels)\n",
        "        outputs = outputs.view(-1, outputs.size(-1))  # Reshape for loss calculation\n",
        "\n",
        "        labels = labels.view(-1)  # Reshape labels\n",
        "        loss = criterion(outputs, labels)\n",
        "\n",
        "        loss.backward()  # Backpropagation\n",
        "        torch.nn.utils.clip_grad_norm_(seq2seq.parameters(), max_norm=1)  # Gradient clipping\n",
        "        optimizer.step()\n",
        "\n",
        "        # Accumulate batch loss\n",
        "        epoch_loss += loss.item()\n",
        "\n",
        "    print(f\"Epoch {epoch + 1}/{num_epochs}, Loss: {epoch_loss / len(train_dataloader):.4f}\")\n"
      ]
    }
  ]
}